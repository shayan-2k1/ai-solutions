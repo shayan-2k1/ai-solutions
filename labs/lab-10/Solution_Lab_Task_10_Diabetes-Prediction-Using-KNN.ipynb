{
 "cells": [
  {
   "attachments": {},
   "cell_type": "markdown",
   "metadata": {},
   "source": [
    "# Using KNN Algorithm to predict if a person will have diabetes or not"
   ]
  },
  {
   "attachments": {},
   "cell_type": "markdown",
   "metadata": {},
   "source": [
    "### importing libraries"
   ]
  },
  {
   "cell_type": "code",
   "execution_count": 1,
   "metadata": {},
   "outputs": [],
   "source": [
    "import numpy as np\n",
    "import pandas as pd\n",
    "import copy\n",
    "from sklearn.model_selection import train_test_split\n",
    "from sklearn.preprocessing import StandardScaler\n",
    "from sklearn.neighbors import KNeighborsClassifier\n",
    "from sklearn.metrics import confusion_matrix\n",
    "from sklearn.metrics import f1_score\n",
    "from sklearn.metrics import accuracy_score\n",
    "import seaborn as sns\n",
    "import matplotlib.pyplot as plt\n",
    "# %matplotlib inline"
   ]
  },
  {
   "attachments": {},
   "cell_type": "markdown",
   "metadata": {},
   "source": [
    "### loading the dataset"
   ]
  },
  {
   "cell_type": "code",
   "execution_count": 2,
   "metadata": {},
   "outputs": [],
   "source": [
    "data = pd.read_csv('diabetes.csv')"
   ]
  },
  {
   "cell_type": "code",
   "execution_count": 3,
   "metadata": {},
   "outputs": [
    {
     "data": {
      "text/html": [
       "<div>\n",
       "<style scoped>\n",
       "    .dataframe tbody tr th:only-of-type {\n",
       "        vertical-align: middle;\n",
       "    }\n",
       "\n",
       "    .dataframe tbody tr th {\n",
       "        vertical-align: top;\n",
       "    }\n",
       "\n",
       "    .dataframe thead th {\n",
       "        text-align: right;\n",
       "    }\n",
       "</style>\n",
       "<table border=\"1\" class=\"dataframe\">\n",
       "  <thead>\n",
       "    <tr style=\"text-align: right;\">\n",
       "      <th></th>\n",
       "      <th>Pregnancies</th>\n",
       "      <th>Glucose</th>\n",
       "      <th>BloodPressure</th>\n",
       "      <th>SkinThickness</th>\n",
       "      <th>Insulin</th>\n",
       "      <th>BMI</th>\n",
       "      <th>DiabetesPedigreeFunction</th>\n",
       "      <th>Age</th>\n",
       "      <th>Outcome</th>\n",
       "    </tr>\n",
       "  </thead>\n",
       "  <tbody>\n",
       "    <tr>\n",
       "      <th>0</th>\n",
       "      <td>6</td>\n",
       "      <td>148</td>\n",
       "      <td>72</td>\n",
       "      <td>35</td>\n",
       "      <td>0</td>\n",
       "      <td>33.6</td>\n",
       "      <td>0.627</td>\n",
       "      <td>50</td>\n",
       "      <td>1</td>\n",
       "    </tr>\n",
       "    <tr>\n",
       "      <th>1</th>\n",
       "      <td>1</td>\n",
       "      <td>85</td>\n",
       "      <td>66</td>\n",
       "      <td>29</td>\n",
       "      <td>0</td>\n",
       "      <td>26.6</td>\n",
       "      <td>0.351</td>\n",
       "      <td>31</td>\n",
       "      <td>0</td>\n",
       "    </tr>\n",
       "    <tr>\n",
       "      <th>2</th>\n",
       "      <td>8</td>\n",
       "      <td>183</td>\n",
       "      <td>64</td>\n",
       "      <td>0</td>\n",
       "      <td>0</td>\n",
       "      <td>23.3</td>\n",
       "      <td>0.672</td>\n",
       "      <td>32</td>\n",
       "      <td>1</td>\n",
       "    </tr>\n",
       "    <tr>\n",
       "      <th>3</th>\n",
       "      <td>1</td>\n",
       "      <td>89</td>\n",
       "      <td>66</td>\n",
       "      <td>23</td>\n",
       "      <td>94</td>\n",
       "      <td>28.1</td>\n",
       "      <td>0.167</td>\n",
       "      <td>21</td>\n",
       "      <td>0</td>\n",
       "    </tr>\n",
       "    <tr>\n",
       "      <th>4</th>\n",
       "      <td>0</td>\n",
       "      <td>137</td>\n",
       "      <td>40</td>\n",
       "      <td>35</td>\n",
       "      <td>168</td>\n",
       "      <td>43.1</td>\n",
       "      <td>2.288</td>\n",
       "      <td>33</td>\n",
       "      <td>1</td>\n",
       "    </tr>\n",
       "  </tbody>\n",
       "</table>\n",
       "</div>"
      ],
      "text/plain": [
       "   Pregnancies  Glucose  BloodPressure  SkinThickness  Insulin   BMI  \\\n",
       "0            6      148             72             35        0  33.6   \n",
       "1            1       85             66             29        0  26.6   \n",
       "2            8      183             64              0        0  23.3   \n",
       "3            1       89             66             23       94  28.1   \n",
       "4            0      137             40             35      168  43.1   \n",
       "\n",
       "   DiabetesPedigreeFunction  Age  Outcome  \n",
       "0                     0.627   50        1  \n",
       "1                     0.351   31        0  \n",
       "2                     0.672   32        1  \n",
       "3                     0.167   21        0  \n",
       "4                     2.288   33        1  "
      ]
     },
     "execution_count": 3,
     "metadata": {},
     "output_type": "execute_result"
    }
   ],
   "source": [
    "data.head()"
   ]
  },
  {
   "attachments": {},
   "cell_type": "markdown",
   "metadata": {},
   "source": [
    "#### Replace columns like [Gluscose,BloodPressure,SkinThickness,BMI,Insulin] with Zero as values with mean of respective column"
   ]
  },
  {
   "cell_type": "code",
   "execution_count": 4,
   "metadata": {},
   "outputs": [],
   "source": [
    "zero_not_accepted = ['Glucose','BloodPressure','SkinThickness','BMI','Insulin']\n",
    "for col in zero_not_accepted:\n",
    "    for i in data[col]:\n",
    "        if i==0:\n",
    "            colSum = sum(data[col])\n",
    "            meanCol=colSum/len(data[col])\n",
    "            data[col]=meanCol\n",
    "\n",
    "for col in zero_not_accepted:\n",
    "    data[col]= data[col].replace(0,np.NaN)\n",
    "    mean = int(data[col].mean(skipna=True))\n",
    "    data[col] = data[col].replace(np.NaN,mean)\n"
   ]
  },
  {
   "attachments": {},
   "cell_type": "markdown",
   "metadata": {},
   "source": [
    "### extracting independent variables"
   ]
  },
  {
   "cell_type": "code",
   "execution_count": 6,
   "metadata": {},
   "outputs": [
    {
     "name": "stdout",
     "output_type": "stream",
     "text": [
      "   Pregnancies     Glucose  BloodPressure  SkinThickness    Insulin  \\\n",
      "0            6  120.894531      69.105469      20.536458  79.799479   \n",
      "1            1  120.894531      69.105469      20.536458  79.799479   \n",
      "2            8  120.894531      69.105469      20.536458  79.799479   \n",
      "3            1  120.894531      69.105469      20.536458  79.799479   \n",
      "4            0  120.894531      69.105469      20.536458  79.799479   \n",
      "\n",
      "         BMI  DiabetesPedigreeFunction  Age  \n",
      "0  31.992578                     0.627   50  \n",
      "1  31.992578                     0.351   31  \n",
      "2  31.992578                     0.672   32  \n",
      "3  31.992578                     0.167   21  \n",
      "4  31.992578                     2.288   33  \n"
     ]
    }
   ],
   "source": [
    "X = data.iloc[:,0:8]\n",
    "print(X.head())"
   ]
  },
  {
   "attachments": {},
   "cell_type": "markdown",
   "metadata": {},
   "source": [
    "### extracting dependent variable"
   ]
  },
  {
   "cell_type": "code",
   "execution_count": 7,
   "metadata": {},
   "outputs": [],
   "source": [
    "y = data.iloc[:,8]"
   ]
  },
  {
   "attachments": {},
   "cell_type": "markdown",
   "metadata": {},
   "source": [
    "### Explorning data to know relation before processing"
   ]
  },
  {
   "cell_type": "code",
   "execution_count": 8,
   "metadata": {},
   "outputs": [
    {
     "data": {
      "text/plain": [
       "<Axes: >"
      ]
     },
     "execution_count": 8,
     "metadata": {},
     "output_type": "execute_result"
    },
    {
     "data": {
      "image/png": "[encoded data removed]",
      "text/plain": [
       "<Figure size 640x480 with 2 Axes>"
      ]
     },
     "metadata": {},
     "output_type": "display_data"
    }
   ],
   "source": [
    "sns.heatmap(data.corr())    "
   ]
  },
  {
   "attachments": {},
   "cell_type": "markdown",
   "metadata": {},
   "source": [
    "### splitting dataset into training and testing set"
   ]
  },
  {
   "cell_type": "code",
   "execution_count": 10,
   "metadata": {},
   "outputs": [
    {
     "name": "stdout",
     "output_type": "stream",
     "text": [
      " Training Data Set Dimensions= (614, 8) Training True Class labels dimensions (614,)\n",
      " Test Data Set Dimensions= (154, 8) Test True Class labels dimensions (154,)\n"
     ]
    }
   ],
   "source": [
    "y = np.array(data['Outcome'])\n",
    "Data=copy.deepcopy(data)\n",
    "del Data['Outcome']\n",
    "X = np.array(Data)\n",
    "\n",
    "X_train,X_test,y_train,y_test = train_test_split(X,y,test_size=.2)\n",
    "print (\" Training Data Set Dimensions=\", X_train.shape, \"Training True Class labels dimensions\", y_train.shape) \n",
    "print (\" Test Data Set Dimensions=\", X_test.shape, \"Test True Class labels dimensions\", y_test.shape)  "
   ]
  },
  {
   "cell_type": "code",
   "execution_count": 11,
   "metadata": {},
   "outputs": [
    {
     "name": "stdout",
     "output_type": "stream",
     "text": [
      "<class 'numpy.ndarray'>\n",
      "X_train[1,:]= [  2.         120.89453125  69.10546875  20.53645833  79.79947917\n",
      "  31.99257812   1.698       28.        ]\n",
      "y_train[1]= 0\n",
      "X_test[1,:]= [  2.         120.89453125  69.10546875  20.53645833  79.79947917\n",
      "  31.99257812   0.191       25.        ]\n",
      "y_test[1]= 0\n"
     ]
    }
   ],
   "source": [
    "# print some values from all the X_train, y_train, X_test, y_test \n",
    "# print first value of X_train dataframe\n",
    "print(type(X_train))    \n",
    "\n",
    "print (\"X_train[1,:]=\", X_train[1,:])\n",
    "# print first value of y_train dataframe\n",
    "print (\"y_train[1]=\", y_train[1])\n",
    "# print first value of X_test dataframe\n",
    "print (\"X_test[1,:]=\", X_test[1,:])\n",
    "# print first value of y_test dataframe\n",
    "print (\"y_test[1]=\", y_test[1])\n"
   ]
  },
  {
   "attachments": {},
   "cell_type": "markdown",
   "metadata": {},
   "source": [
    "#### Euclidean Distance Formula "
   ]
  },
  {
   "cell_type": "code",
   "execution_count": 25,
   "metadata": {},
   "outputs": [],
   "source": [
    "import math\n",
    "def Euclidian_Distance(Observe,Actual):\n",
    "    distance=0\n",
    "    for x in range(len(Observe)):\n",
    "        distance += pow((Observe[x] - Actual[x]), 2)\n",
    "    return math.sqrt(distance)"
   ]
  },
  {
   "attachments": {},
   "cell_type": "markdown",
   "metadata": {},
   "source": [
    "### You need to Implement Model on above train and test data"
   ]
  },
  {
   "cell_type": "code",
   "execution_count": 26,
   "metadata": {},
   "outputs": [],
   "source": [
    "# 1) You have to implement the Model using above Data\n",
    "# 2) predict your model on test data\n",
    "# 3) Calculate Accuracy at the end\n",
    "## Your code goes here.."
   ]
  },
  {
   "cell_type": "code",
   "execution_count": 27,
   "metadata": {},
   "outputs": [],
   "source": [
    "def getKNearest(distances,k):\n",
    "    print(f'coming in getKNearest with distances {distances} and k {k}  ')\n",
    "    # Sort on the basis of distances\n",
    "    distances.sort(key=lambda x: x[0])\n",
    "    dist = []\n",
    "    # Get top k distances from the list of values\n",
    "    for i in range(k):\n",
    "        dist.append(distances.pop(0))\n",
    "    print(f'output returning of getKNearest distances {dist}')\n",
    "    return dist"
   ]
  },
  {
   "cell_type": "code",
   "execution_count": 28,
   "metadata": {},
   "outputs": [],
   "source": [
    "def getMaxClass(classes):\n",
    "    print(f'coming input classes {classes}' )\n",
    "    # Get the Max Class using np unique to get the count of each class\n",
    "    v, c = np.unique(classes, return_counts = True)\n",
    "    print(f'values of v {v} and c {c}' )\n",
    "    c = c.tolist()\n",
    "    max_val = max(c)\n",
    "    print(f'max value received {max_val}')\n",
    "    # Return the class with the maximum value\n",
    "    index = c.index(max_val)\n",
    "    print(f'index of max value {index} and value returning {v[index]}')\n",
    "    return v[index]\n",
    "    "
   ]
  },
  {
   "cell_type": "code",
   "execution_count": 29,
   "metadata": {},
   "outputs": [],
   "source": [
    "def getClasses(k_nearest):\n",
    "    print(f'coming here {k_nearest}')\n",
    "    # From the tuples list - k_nearest, fetch the classes only and return their list\n",
    "    c = []\n",
    "    for tup in k_nearest:\n",
    "        c.append(tup[1])\n",
    "    print(f'output returning {c}')\n",
    "    return c"
   ]
  },
  {
   "cell_type": "code",
   "execution_count": 30,
   "metadata": {},
   "outputs": [],
   "source": [
    "# Using the KNN Supervised Learning Algorithm for the model\n",
    "# It will help us classify the quality of wheat seeds\n",
    "\n",
    "# take only the first 5 values of X_train and y_train for training \n",
    "# you can increase the size of train and test data and remove the extra \n",
    "# outputs after understading to get better results and accuracy\n",
    "X_train = X_train[0:5,:]\n",
    "y_train = y_train[0:5]\n",
    "\n",
    "def KNN(X_train, X_test, y_train, k):\n",
    "    predictions = []\n",
    "    # Iterate over the entire test set\n",
    "    for test in X_test:\n",
    "        print(f\"test {test} \")\n",
    "        info = []\n",
    "        # Iterate over the etire training set\n",
    "        for i, train in enumerate(X_train):\n",
    "            print(f\"train {train}  and y_train {y_train[i]} and i {i}\")\n",
    "            # Calculate the euclidean Distance of both the instances\n",
    "            val =Euclidian_Distance(test, train)\n",
    "            # Add the eucl. dist and the label to the info list\n",
    "            print(f\"val {val} and y_train {y_train[i]} and i {i}\")\n",
    "            info.append((val, y_train[i]))\n",
    "            print(f\"info {info}\")\n",
    "        # Find the k nearest info labels\n",
    "        k_nearests = getKNearest(info,k)\n",
    "        # Get the classes from the info labels\n",
    "        classes = getClasses(k_nearests)\n",
    "        # The predicted class will be the one with the highest score\n",
    "        pred = getMaxClass(classes)\n",
    "        # Add to the predictions list\n",
    "        predictions.append(pred)\n",
    "        \n",
    "    return predictions"
   ]
  },
  {
   "cell_type": "code",
   "execution_count": 31,
   "metadata": {},
   "outputs": [],
   "source": [
    "#Lets see how good we are doing, by finding the accuracy on the test set..\n",
    "\n",
    "def Accuracy (prediction,Ytest):\n",
    "  correct = 0.0\n",
    "  for i in range (len(prediction)):\n",
    "    if (prediction[i] == Ytest[i]):\n",
    "        correct += 1  \n",
    "\n",
    "  accuracy = correct/len(Ytest)\n",
    "  print (\"Accuracy Score is: \", accuracy)"
   ]
  },
  {
   "cell_type": "code",
   "execution_count": 32,
   "metadata": {},
   "outputs": [
    {
     "name": "stdout",
     "output_type": "stream",
     "text": [
      "test [  1.    199.     76.     43.    155.     42.9     1.394  22.   ] \n",
      "train [ 5.    99.    54.    28.    83.    34.     0.499 30.   ]  and y_train 0 and i 0\n",
      "val 126.70047760367757 and y_train 0 and i 0\n",
      "info [(126.70047760367757, 0)]\n",
      "train [ 3.    81.    86.    16.    66.    27.5    0.306 22.   ]  and y_train 0 and i 1\n",
      "val 151.3814511226524 and y_train 0 and i 1\n",
      "info [(126.70047760367757, 0), (151.3814511226524, 0)]\n",
      "train [  0.     73.     72.     29.    155.     21.1     0.342  25.   ]  and y_train 0 and i 2\n",
      "val 128.74139467941148 and y_train 0 and i 2\n",
      "info [(126.70047760367757, 0), (151.3814511226524, 0), (128.74139467941148, 0)]\n",
      "train [  0.    100.     88.     60.    110.     46.8     0.962  31.   ]  and y_train 0 and i 3\n",
      "val 111.15932990082298 and y_train 0 and i 3\n",
      "info [(126.70047760367757, 0), (151.3814511226524, 0), (128.74139467941148, 0), (111.15932990082298, 0)]\n",
      "train [  9.    145.     88.     34.    165.     30.3     0.771  53.   ]  and y_train 1 and i 4\n",
      "val 66.52178687467737 and y_train 1 and i 4\n",
      "info [(126.70047760367757, 0), (151.3814511226524, 0), (128.74139467941148, 0), (111.15932990082298, 0), (66.52178687467737, 1)]\n",
      "coming in getKNearest with distances [(126.70047760367757, 0), (151.3814511226524, 0), (128.74139467941148, 0), (111.15932990082298, 0), (66.52178687467737, 1)] and k 3  \n",
      "output returning of getKNearest distances [(66.52178687467737, 1), (111.15932990082298, 0), (126.70047760367757, 0)]\n",
      "coming here [(66.52178687467737, 1), (111.15932990082298, 0), (126.70047760367757, 0)]\n",
      "output returning [1, 0, 0]\n",
      "coming input classes [1, 0, 0]\n",
      "values of v [0 1] and c [2 1]\n",
      "max value received 2\n",
      "index of max value 0 and value returning 0\n",
      "test [  5.    144.     82.     26.    285.     32.      0.452  58.   ] \n",
      "train [ 5.    99.    54.    28.    83.    34.     0.499 30.   ]  and y_train 0 and i 0\n",
      "val 210.72494443942796 and y_train 0 and i 0\n",
      "info [(210.72494443942796, 0)]\n",
      "train [ 3.    81.    86.    16.    66.    27.5    0.306 22.   ]  and y_train 0 and i 1\n",
      "val 231.01140949312438 and y_train 0 and i 1\n",
      "info [(210.72494443942796, 0), (231.01140949312438, 0)]\n",
      "train [  0.     73.     72.     29.    155.     21.1     0.342  25.   ]  and y_train 0 and i 2\n",
      "val 152.58709676771494 and y_train 0 and i 2\n",
      "info [(210.72494443942796, 0), (231.01140949312438, 0), (152.58709676771494, 0)]\n",
      "train [  0.    100.     88.     60.    110.     46.8     0.962  31.   ]  and y_train 0 and i 3\n",
      "val 186.34993989803164 and y_train 0 and i 3\n",
      "info [(210.72494443942796, 0), (231.01140949312438, 0), (152.58709676771494, 0), (186.34993989803164, 0)]\n",
      "train [  9.    145.     88.     34.    165.     30.3     0.771  53.   ]  and y_train 1 and i 4\n",
      "val 120.60261921285125 and y_train 1 and i 4\n",
      "info [(210.72494443942796, 0), (231.01140949312438, 0), (152.58709676771494, 0), (186.34993989803164, 0), (120.60261921285125, 1)]\n",
      "coming in getKNearest with distances [(210.72494443942796, 0), (231.01140949312438, 0), (152.58709676771494, 0), (186.34993989803164, 0), (120.60261921285125, 1)] and k 3  \n",
      "output returning of getKNearest distances [(120.60261921285125, 1), (152.58709676771494, 0), (186.34993989803164, 0)]\n",
      "coming here [(120.60261921285125, 1), (152.58709676771494, 0), (186.34993989803164, 0)]\n",
      "output returning [1, 0, 0]\n",
      "coming input classes [1, 0, 0]\n",
      "values of v [0 1] and c [2 1]\n",
      "max value received 2\n",
      "index of max value 0 and value returning 0\n",
      "[0, 0]\n",
      "Accuracy Score is:  0.0\n"
     ]
    }
   ],
   "source": [
    "# Running on k = 3 and very small data just for your understanding\n",
    "preds = KNN(X_train,X_test,y_train, 3)\n",
    "print(preds)\n",
    "Accuracy(preds, y_test) "
   ]
  },
  {
   "cell_type": "code",
   "execution_count": 34,
   "metadata": {},
   "outputs": [
    {
     "name": "stdout",
     "output_type": "stream",
     "text": [
      "[1 1]\n",
      "[0, 0]\n"
     ]
    }
   ],
   "source": [
    "### JUST FOR CHECKING what was actual class labels and what model predicted #####\n",
    "print(y_test)\n",
    "print(preds)"
   ]
  },
  {
   "attachments": {},
   "cell_type": "markdown",
   "metadata": {},
   "source": [
    "##### you can increase the size of train and test data and remove the extra outputs after understading to get better results and accuracy"
   ]
  }
 ],
 "metadata": {
  "kernelspec": {
   "display_name": "Python 3",
   "language": "python",
   "name": "python3"
  },
  "language_info": {
   "codemirror_mode": {
    "name": "ipython",
    "version": 3
   },
   "file_extension": ".py",
   "mimetype": "text/x-python",
   "name": "python",
   "nbconvert_exporter": "python",
   "pygments_lexer": "ipython3",
   "version": "3.10.9"
  }
 },
 "nbformat": 4,
 "nbformat_minor": 2
}
