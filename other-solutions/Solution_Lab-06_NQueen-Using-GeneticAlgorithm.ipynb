{
 "cells": [
  {
   "attachments": {},
   "cell_type": "markdown",
   "id": "014eb1ee",
   "metadata": {},
   "source": [
    "### N-Queen Solution Using Genetic Algorithm"
   ]
  },
  {
   "cell_type": "code",
   "execution_count": 2,
   "id": "15dd1705",
   "metadata": {},
   "outputs": [],
   "source": [
    "import random"
   ]
  },
  {
   "cell_type": "code",
   "execution_count": 3,
   "id": "5c649352",
   "metadata": {},
   "outputs": [],
   "source": [
    "def calculate_fitness(board):\n",
    "    n = len(board)\n",
    "    fitness = 0\n",
    "    for i in range(n):\n",
    "        for j in range(i+1, n):\n",
    "            if board[i] == board[j] or abs(board[i]-board[j]) == j-i: # check if there is a queen in the same row or diagonal \n",
    "                fitness += 1 # if so, increase fitness by 1 that means there is a conflict or Attacking Queen\n",
    "    return fitness"
   ]
  },
  {
   "cell_type": "code",
   "execution_count": 35,
   "id": "238c0cec",
   "metadata": {},
   "outputs": [],
   "source": [
    "''' population selection is also important in GA, now its selecting 1 fourth of the population you may increase or decrease it\n",
    " its impact on the performance of GA will be different. You know why? Think about it :) '''\n",
    "def selection(population, fitness): # select the best half of the population\n",
    "    sorted_population = [x for _, x in sorted(zip(fitness, population))] # sort the population based on fitness values in ascending order \n",
    "    best_population = sorted_population[:len(sorted_population)//4] # select the best half of the population \n",
    "    # extra_population = [sorted_population[i] for i in random.sample(range(len(sorted_population)//2, len(sorted_population)), len(best_population))]\n",
    "    return best_population  "
   ]
  },
  {
   "cell_type": "code",
   "execution_count": 31,
   "id": "2b052ac7",
   "metadata": {},
   "outputs": [],
   "source": [
    "def crossover(parent1, parent2): # crossover the best half of the population\n",
    "    n = len(parent1) # number of queens in the board \n",
    "    crossover_point = random.randint(1, n-1) # select a random crossover point \n",
    "    child1 = parent1[:crossover_point] + parent2[crossover_point:] # crossover the parents to create two children \n",
    "    child2 = parent2[:crossover_point] + parent1[crossover_point:] # crossover the parents to create two children \n",
    "    return child1, child2 "
   ]
  },
  {
   "cell_type": "code",
   "execution_count": 32,
   "id": "c5dd351d",
   "metadata": {},
   "outputs": [],
   "source": [
    "def mutation(individual, n): # mutate the children \n",
    "    index = random.randint(0, n-1) # select a random index to mutate\n",
    "    value = random.randint(0, n-1) # select a random value to replace the value at the selected index \n",
    "    individual[index] = value # mutate the individual selected \n",
    "    return individual "
   ]
  },
  {
   "cell_type": "code",
   "execution_count": 33,
   "id": "dc542346",
   "metadata": {},
   "outputs": [],
   "source": [
    "def Genetic_Algorithm(n): # n is the number of queens in the board \n",
    "    population = [[random.randint(0, n-1) for _ in range(n)] for _ in range(100)] # create a population of 100 individuals \n",
    "    while True: # loop until the solution is found\n",
    "        fitness = [calculate_fitness(board) for board in population] # calculate the fitness of each individual in the population\n",
    "        if min(fitness) == 0:\n",
    "            break # break the loop if the fitness value of the solution is 0 \n",
    "        selected_population = selection(population, fitness) # select the best half of the population\n",
    "        new_population = [] # create a new population to store the children \n",
    "        while len(new_population) < len(population): # loop until the new population is full means the size of the new population is equal to the size of the old population \n",
    "            parent1, parent2 = random.sample(selected_population, 2) # select two parents from the selected population based on the fitness values  \n",
    "            child1, child2 = crossover(parent1, parent2) # crossover the parents to create two children\n",
    "            child1 = mutation(child1, n) # mutate the children\n",
    "            child2 = mutation(child2, n) # mutate the children\n",
    "            new_population.append(child1) # add the children to the new population \n",
    "            new_population.append(child2)   # add the children to the new population \n",
    "        population = new_population # replace the old population with the new population \n",
    "\n",
    "    solution = [board for board in population if calculate_fitness(board) == 0][0] # select the solution from the population\n",
    "    for row in range(n): # print the solution in the form of a board \n",
    "        line = \"\"\n",
    "        for col in range(n):\n",
    "            if solution[col] == row:\n",
    "                line += \"| Q \"\n",
    "            else:\n",
    "                line += \"| - \"\n",
    "        print(line)\n",
    "    print(\"Fitness: \", calculate_fitness(solution)) # fitness value of the solution should be 0 no attacking Queens\n",
    "    print(\"Solution: \", solution)  # verify the solution by checking thier indexes and values that shouldn't be same each Queen should be at different value"
   ]
  },
  {
   "cell_type": "code",
   "execution_count": 37,
   "id": "97608030",
   "metadata": {},
   "outputs": [
    {
     "name": "stdout",
     "output_type": "stream",
     "text": [
      "| - | - | - | - | - | Q | - | - \n",
      "| - | - | Q | - | - | - | - | - \n",
      "| Q | - | - | - | - | - | - | - \n",
      "| - | - | - | - | - | - | Q | - \n",
      "| - | - | - | - | Q | - | - | - \n",
      "| - | - | - | - | - | - | - | Q \n",
      "| - | Q | - | - | - | - | - | - \n",
      "| - | - | - | Q | - | - | - | - \n",
      "Fitness:  0\n",
      "Solution:  [2, 6, 1, 7, 4, 0, 3, 5]\n"
     ]
    }
   ],
   "source": [
    "# take input from the user\n",
    "n = int(input(\"Enter the number of queens: \"))\n",
    "Genetic_Algorithm(n)"
   ]
  },
  {
   "cell_type": "code",
   "execution_count": null,
   "id": "680abde0",
   "metadata": {},
   "outputs": [],
   "source": []
  }
 ],
 "metadata": {
  "kernelspec": {
   "display_name": "Python 3 (ipykernel)",
   "language": "python",
   "name": "python3"
  },
  "language_info": {
   "codemirror_mode": {
    "name": "ipython",
    "version": 3
   },
   "file_extension": ".py",
   "mimetype": "text/x-python",
   "name": "python",
   "nbconvert_exporter": "python",
   "pygments_lexer": "ipython3",
   "version": "3.9.7"
  }
 },
 "nbformat": 4,
 "nbformat_minor": 5
}
