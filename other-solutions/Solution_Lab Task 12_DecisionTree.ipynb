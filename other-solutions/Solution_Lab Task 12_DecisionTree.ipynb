{
 "cells": [
  {
   "attachments": {},
   "cell_type": "markdown",
   "metadata": {},
   "source": [
    "We'll write a Decision Tree Classifier, in pure Python. Below each of the methods, I've written a little demo to help explain what it does."
   ]
  },
  {
   "cell_type": "code",
   "execution_count": 17,
   "metadata": {},
   "outputs": [],
   "source": [
    "# For Python 2 / 3 compatability\n",
    "from __future__ import print_function\n",
    "import pandas as pd"
   ]
  },
  {
   "cell_type": "code",
   "execution_count": 18,
   "metadata": {},
   "outputs": [
    {
     "name": "stdout",
     "output_type": "stream",
     "text": [
      "[[3, 'Adult', 'male', 0], [1, 'Adult', 'female', 1], [3, 'Adult', 'female', 1], [1, 'Adult', 'female', 1], [3, 'Adult', 'male', 0], [3, 'Child', 'male', 0], [1, 'Adult', 'male', 0], [3, 'Child', 'male', 0], [3, 'Adult', 'female', 1], [2, 'Child', 'female', 1], [3, 'Child', 'female', 1], [1, 'Adult', 'female', 1], [3, 'Adult', 'male', 0], [3, 'Adult', 'male', 0], [3, 'Child', 'female', 0], [2, 'Adult', 'female', 1], [3, 'Child', 'male', 0], [2, 'Child', 'male', 1], [3, 'Adult', 'female', 0], [3, 'Child', 'female', 1], [2, 'Adult', 'male', 0], [2, 'Adult', 'male', 1], [3, 'Child', 'female', 1], [1, 'Adult', 'male', 1], [3, 'Child', 'female', 0], [3, 'Adult', 'female', 1], [3, 'Child', 'male', 0], [1, 'Adult', 'male', 0], [3, 'Child', 'female', 1], [3, 'Child', 'male', 0], [1, 'Adult', 'male', 0], [1, 'Child', 'female', 1], [3, 'Child', 'female', 1], [2, 'Adult', 'male', 0], [1, 'Adult', 'male', 0], [1, 'Adult', 'male', 0], [3, 'Child', 'male', 1], [3, 'Adult', 'male', 0], [3, 'Adult', 'female', 0], [3, 'Child', 'female', 1], [3, 'Adult', 'female', 0], [2, 'Adult', 'female', 0], [3, 'Child', 'male', 0], [2, 'Child', 'female', 1], [3, 'Adult', 'female', 1], [3, 'Child', 'male', 0], [3, 'Child', 'male', 0], [3, 'Child', 'female', 1], [3, 'Child', 'male', 0], [3, 'Adult', 'female', 0], [3, 'Child', 'male', 0], [3, 'Adult', 'male', 0], [1, 'Adult', 'female', 1], [2, 'Adult', 'female', 1], [1, 'Adult', 'male', 0], [1, 'Child', 'male', 1], [2, 'Adult', 'female', 1], [3, 'Adult', 'male', 0], [2, 'Child', 'female', 1], [3, 'Child', 'male', 0], [3, 'Adult', 'male', 0], [1, 'Adult', 'female', 1], [1, 'Adult', 'male', 0], [3, 'Child', 'male', 0], [1, 'Child', 'male', 0], [3, 'Child', 'male', 1], [2, 'Adult', 'female', 1], [3, 'Adult', 'male', 0], [3, 'Child', 'female', 1], [3, 'Adult', 'male', 0], [2, 'Adult', 'male', 0], [3, 'Child', 'female', 0], [2, 'Adult', 'male', 0], [3, 'Adult', 'male', 0], [3, 'Adult', 'male', 1], [3, 'Adult', 'male', 0], [3, 'Child', 'male', 0], [3, 'Child', 'male', 0], [2, 'Child', 'male', 1], [3, 'Adult', 'female', 1], [3, 'Adult', 'male', 0], [3, 'Adult', 'male', 1], [3, 'Child', 'female', 1], [1, 'Adult', 'male', 0], [2, 'Child', 'female', 1], [3, 'Adult', 'female', 1], [3, 'Child', 'male', 0], [3, 'Child', 'male', 0], [1, 'Adult', 'female', 1], [3, 'Adult', 'male', 0], [3, 'Adult', 'male', 0], [3, 'Adult', 'male', 0], [1, 'Adult', 'male', 0], [3, 'Adult', 'male', 0], [3, 'Adult', 'male', 0], [3, 'Child', 'male', 0], [1, 'Adult', 'male', 0], [1, 'Adult', 'male', 1], [2, 'Adult', 'female', 1], [2, 'Adult', 'male', 0], [3, 'Adult', 'female', 0], [3, 'Child', 'male', 0], [1, 'Adult', 'male', 0], [3, 'Adult', 'male', 0], [3, 'Adult', 'male', 0], [3, 'Adult', 'male', 0], [3, 'Adult', 'female', 1], [3, 'Child', 'male', 1], [3, 'Adult', 'male', 0], [3, 'Child', 'female', 1], [1, 'Adult', 'male', 0], [3, 'Child', 'female', 0], [3, 'Adult', 'male', 0], [3, 'Adult', 'female', 0], [3, 'Child', 'female', 0], [3, 'Adult', 'male', 0], [3, 'Adult', 'male', 0], [2, 'Adult', 'male', 0], [1, 'Adult', 'male', 0], [3, 'Child', 'female', 0], [2, 'Adult', 'male', 0], [3, 'Child', 'male', 0], [2, 'Adult', 'male', 0], [2, 'Adult', 'female', 1], [1, 'Adult', 'male', 0], [3, 'Child', 'male', 1], [3, 'Child', 'male', 0], [3, 'Adult', 'male', 1], [3, 'Child', 'female', 1], [3, 'Adult', 'male', 0], [3, 'Adult', 'male', 0], [3, 'Adult', 'male', 0], [3, 'Adult', 'female', 0], [2, 'Adult', 'female', 1], [2, 'Adult', 'male', 0], [2, 'Adult', 'male', 0], [1, 'Adult', 'female', 1], [1, 'Adult', 'male', 0], [3, 'Child', 'male', 0], [1, 'Adult', 'male', 0], [3, 'Child', 'female', 0], [3, 'Adult', 'female', 1], [3, 'Adult', 'female', 1], [3, 'Adult', 'male', 0], [2, 'Adult', 'male', 0], [2, 'Adult', 'male', 0], [3, 'Adult', 'male', 1], [3, 'Child', 'female', 0], [2, 'Adult', 'male', 0], [2, 'Adult', 'male', 0], [2, 'Adult', 'male', 0], [1, 'Adult', 'female', 1], [3, 'Adult', 'male', 0], [3, 'Adult', 'male', 0], [3, 'Child', 'male', 0], [1, 'Adult', 'male', 0], [3, 'Child', 'female', 1], [3, 'Adult', 'male', 0], [3, 'Child', 'male', 0], [3, 'Child', 'male', 0], [3, 'Adult', 'male', 0], [2, 'Adult', 'female', 1], [3, 'Adult', 'male', 0], [3, 'Child', 'male', 0], [3, 'Child', 'male', 0], [3, 'Child', 'male', 1], [1, 'Child', 'female', 1], [3, 'Adult', 'female', 0], [1, 'Child', 'male', 0], [3, 'Adult', 'male', 0], [1, 'Adult', 'male', 0], [3, 'Child', 'male', 0], [3, 'Child', 'female', 1], [3, 'Adult', 'male', 0], [1, 'Adult', 'male', 0], [3, 'Adult', 'male', 0], [3, 'Child', 'male', 0], [1, 'Adult', 'female', 0], [2, 'Adult', 'male', 0], [3, 'Adult', 'male', 0], [3, 'Child', 'female', 0], [2, 'Child', 'male', 0], [3, 'Child', 'male', 0], [2, 'Child', 'male', 1], [3, 'Child', 'female', 1], [1, 'Child', 'male', 0], [3, 'Child', 'female', 1], [1, 'Adult', 'male', 1], [3, 'Adult', 'male', 0], [3, 'Adult', 'male', 0], [2, 'Adult', 'female', 1], [2, 'Adult', 'male', 0], [3, 'Adult', 'female', 1], [2, 'Child', 'male', 1], [1, 'Adult', 'female', 1], [1, 'Adult', 'female', 1], [3, 'Child', 'male', 0], [3, 'Adult', 'male', 0], [3, 'Child', 'female', 1], [2, 'Adult', 'female', 0], [3, 'Adult', 'male', 0], [3, 'Child', 'male', 0], [3, 'Adult', 'male', 0], [3, 'Adult', 'male', 0], [3, 'Adult', 'male', 1], [3, 'Child', 'female', 0], [3, 'Adult', 'male', 0], [3, 'Adult', 'male', 1], [3, 'Child', 'female', 1], [1, 'Adult', 'male', 1], [3, 'Adult', 'male', 0], [2, 'Adult', 'female', 1], [3, 'Adult', 'male', 0], [2, 'Adult', 'male', 0], [3, 'Child', 'male', 0], [1, 'Adult', 'female', 1], [3, 'Adult', 'female', 1], [2, 'Adult', 'male', 0], [1, 'Adult', 'female', 1], [2, 'Adult', 'male', 0], [3, 'Child', 'male', 1], [2, 'Adult', 'male', 0], [3, 'Adult', 'male', 0], [3, 'Child', 'male', 0], [1, 'Adult', 'male', 1], [3, 'Adult', 'male', 0], [2, 'Adult', 'male', 1], [3, 'Adult', 'male', 0], [2, 'Adult', 'male', 0], [3, 'Child', 'female', 0], [1, 'Adult', 'female', 1], [3, 'Adult', 'male', 0], [2, 'Adult', 'male', 0], [3, 'Child', 'female', 1], [2, 'Adult', 'male', 0], [3, 'Child', 'female', 0], [2, 'Adult', 'male', 0], [2, 'Child', 'female', 1], [2, 'Adult', 'male', 0], [2, 'Adult', 'male', 0], [3, 'Child', 'female', 0], [3, 'Child', 'female', 1], [2, 'Adult', 'male', 0], [3, 'Adult', 'male', 0], [3, 'Adult', 'male', 0], [1, 'Adult', 'male', 0], [3, 'Adult', 'female', 0], [2, 'Adult', 'female', 1], [1, 'Adult', 'male', 1], [2, 'Adult', 'male', 0], [3, 'Child', 'male', 0], [3, 'Adult', 'female', 0], [1, 'Adult', 'male', 0], [3, 'Adult', 'male', 0], [3, 'Adult', 'female', 0], [3, 'Adult', 'female', 1], [1, 'Child', 'female', 1], [1, 'Adult', 'female', 1], [1, 'Adult', 'female', 1], [2, 'Adult', 'female', 1], [3, 'Child', 'male', 0], [3, 'Child', 'male', 1], [1, 'Adult', 'male', 0], [1, 'Adult', 'male', 0], [3, 'Child', 'female', 0], [2, 'Adult', 'male', 0], [3, 'Child', 'male', 0], [3, 'Adult', 'male', 1], [1, 'Adult', 'female', 1], [1, 'Adult', 'female', 1], [1, 'Child', 'male', 0], [3, 'Adult', 'male', 1], [2, 'Adult', 'female', 1], [1, 'Adult', 'male', 0], [3, 'Child', 'female', 1], [1, 'Adult', 'female', 1], [3, 'Adult', 'female', 0], [2, 'Child', 'male', 0], [3, 'Child', 'male', 0], [3, 'Adult', 'female', 1], [3, 'Adult', 'male', 0], [3, 'Adult', 'male', 0], [3, 'Child', 'male', 0], [3, 'Adult', 'male', 1], [1, 'Child', 'male', 0], [3, 'Adult', 'male', 0], [3, 'Adult', 'male', 1], [3, 'Adult', 'male', 0], [2, 'Adult', 'male', 1], [3, 'Adult', 'female', 1], [1, 'Adult', 'female', 1], [1, 'Adult', 'female', 1], [2, 'Adult', 'male', 0], [3, 'Adult', 'female', 0], [3, 'Adult', 'male', 0], [1, 'Child', 'male', 0], [3, 'Adult', 'male', 0], [1, 'Child', 'female', 0], [1, 'Child', 'male', 1], [1, 'Adult', 'female', 1], [3, 'Child', 'female', 1], [3, 'Child', 'male', 1], [3, 'Adult', 'male', 0], [2, 'Child', 'female', 1], [3, 'Child', 'male', 0], [1, 'Child', 'male', 1], [1, 'Child', 'female', 1], [1, 'Child', 'female', 1], [2, 'Adult', 'male', 0], [1, 'Adult', 'female', 1], [1, 'Adult', 'female', 1], [1, 'Adult', 'female', 1], [2, 'Adult', 'female', 0], [3, 'Adult', 'male', 0], [2, 'Adult', 'male', 0], [3, 'Adult', 'female', 1], [2, 'Adult', 'female', 1], [2, 'Adult', 'male', 0], [1, 'Adult', 'female', 1], [1, 'Adult', 'female', 1], [3, 'Adult', 'male', 0], [3, 'Adult', 'male', 0], [2, 'Adult', 'female', 1], [2, 'Adult', 'female', 1], [3, 'Child', 'male', 0], [1, 'Adult', 'female', 1], [3, 'Adult', 'male', 0], [2, 'Adult', 'female', 1], [3, 'Adult', 'female', 1], [1, 'Child', 'female', 1], [3, 'Child', 'female', 1], [1, 'Adult', 'male', 0], [1, 'Adult', 'male', 0], [3, 'Child', 'male', 0], [1, 'Child', 'female', 1], [3, 'Child', 'male', 0], [1, 'Adult', 'male', 0], [1, 'Adult', 'female', 1], [3, 'Adult', 'male', 1], [1, 'Adult', 'male', 0], [2, 'Child', 'male', 1], [1, 'Adult', 'female', 1], [2, 'Adult', 'male', 0], [2, 'Adult', 'male', 0], [2, 'Adult', 'male', 0], [2, 'Adult', 'female', 1], [2, 'Adult', 'female', 1], [3, 'Child', 'female', 1], [3, 'Child', 'male', 1], [3, 'Adult', 'male', 0], [3, 'Adult', 'male', 0], [1, 'Child', 'male', 0], [3, 'Child', 'male', 0], [3, 'Adult', 'male', 0], [3, 'Child', 'male', 0], [3, 'Adult', 'male', 0], [1, 'Adult', 'female', 1], [2, 'Adult', 'female', 0], [3, 'Child', 'female', 1], [3, 'Child', 'female', 1], [3, 'Adult', 'male', 0], [2, 'Adult', 'male', 0], [3, 'Adult', 'female', 0], [3, 'Adult', 'male', 0], [3, 'Child', 'male', 0], [3, 'Adult', 'male', 0], [1, 'Adult', 'female', 1], [3, 'Child', 'female', 1], [3, 'Child', 'female', 1], [1, 'Adult', 'female', 1], [1, 'Adult', 'male', 1], [3, 'Adult', 'male', 0], [3, 'Adult', 'male', 0], [1, 'Adult', 'male', 0], [3, 'Child', 'female', 0], [1, 'Child', 'female', 1], [3, 'Adult', 'female', 1], [1, 'Adult', 'male', 0], [3, 'Adult', 'male', 0], [3, 'Adult', 'male', 0], [1, 'Adult', 'female', 1], [3, 'Child', 'female', 1], [3, 'Adult', 'male', 0], [1, 'Adult', 'female', 1], [3, 'Child', 'male', 0], [2, 'Adult', 'male', 0], [3, 'Child', 'male', 0], [2, 'Adult', 'female', 1], [3, 'Child', 'male', 0], [2, 'Child', 'female', 1], [1, 'Adult', 'male', 1], [3, 'Adult', 'male', 1], [3, 'Adult', 'male', 0], [1, 'Adult', 'female', 1], [3, 'Adult', 'female', 1], [3, 'Adult', 'male', 0], [3, 'Adult', 'female', 0], [2, 'Adult', 'male', 0], [2, 'Adult', 'male', 0], [2, 'Adult', 'female', 1], [3, 'Adult', 'male', 1], [3, 'Adult', 'male', 0], [3, 'Adult', 'female', 0], [3, 'Adult', 'male', 0], [3, 'Adult', 'female', 0], [2, 'Adult', 'male', 0], [3, 'Adult', 'male', 0], [2, 'Child', 'male', 1], [3, 'Adult', 'male', 0], [3, 'Child', 'female', 0], [3, 'Child', 'male', 0], [3, 'Child', 'male', 0], [1, 'Adult', 'female', 1], [2, 'Child', 'male', 0], [3, 'Adult', 'male', 1], [3, 'Child', 'female', 0], [2, 'Adult', 'female', 1], [2, 'Adult', 'female', 1], [2, 'Adult', 'male', 0], [3, 'Child', 'female', 0], [3, 'Child', 'male', 0], [3, 'Adult', 'male', 0], [3, 'Adult', 'male', 0], [3, 'Adult', 'female', 0], [3, 'Adult', 'male', 0], [3, 'Child', 'male', 0], [2, 'Adult', 'female', 1], [2, 'Adult', 'female', 1], [3, 'Child', 'male', 0], [3, 'Adult', 'male', 1], [1, 'Adult', 'male', 1], [3, 'Child', 'female', 1], [2, 'Adult', 'female', 1], [3, 'Child', 'male', 0], [1, 'Adult', 'male', 0], [1, 'Child', 'female', 1], [3, 'Adult', 'female', 0], [2, 'Adult', 'female', 1], [1, 'Adult', 'male', 0], [2, 'Adult', 'male', 0], [2, 'Adult', 'female', 1], [3, 'Adult', 'male', 0], [3, 'Adult', 'male', 0], [2, 'Adult', 'female', 1], [3, 'Child', 'male', 1], [1, 'Child', 'male', 1], [2, 'Child', 'female', 1], [1, 'Adult', 'male', 1], [3, 'Child', 'female', 1], [1, 'Adult', 'male', 1], [2, 'Adult', 'male', 0], [3, 'Child', 'male', 0], [1, 'Adult', 'male', 0], [1, 'Adult', 'male', 1], [3, 'Child', 'male', 0], [3, 'Adult', 'male', 1], [1, 'Adult', 'male', 0], [1, 'Child', 'female', 1], [2, 'Adult', 'female', 1], [3, 'Child', 'male', 0], [1, 'Adult', 'male', 1], [3, 'Adult', 'male', 0], [1, 'Adult', 'male', 0], [2, 'Adult', 'male', 0], [3, 'Child', 'male', 0], [3, 'Adult', 'male', 0], [2, 'Child', 'male', 0], [1, 'Adult', 'male', 0], [3, 'Child', 'male', 0], [3, 'Child', 'female', 1], [3, 'Child', 'male', 0], [3, 'Adult', 'male', 0], [2, 'Adult', 'female', 1], [2, 'Adult', 'female', 1], [3, 'Adult', 'female', 0], [1, 'Child', 'male', 0], [2, 'Adult', 'male', 0], [3, 'Adult', 'male', 0], [3, 'Adult', 'male', 0], [3, 'Child', 'female', 1], [3, 'Child', 'male', 0], [2, 'Child', 'male', 0], [3, 'Adult', 'male', 0], [3, 'Adult', 'female', 1], [1, 'Adult', 'male', 1], [3, 'Child', 'female', 0], [1, 'Adult', 'female', 1], [1, 'Adult', 'male', 0], [3, 'Adult', 'male', 0], [3, 'Child', 'male', 1], [3, 'Child', 'male', 0], [3, 'Adult', 'male', 0], [1, 'Adult', 'male', 0], [1, 'Adult', 'male', 0], [3, 'Adult', 'male', 0], [3, 'Child', 'male', 0], [1, 'Adult', 'female', 1], [3, 'Child', 'male', 0], [1, 'Adult', 'female', 0], [3, 'Adult', 'male', 0], [3, 'Child', 'male', 0], [3, 'Adult', 'female', 0], [3, 'Child', 'female', 0], [3, 'Adult', 'female', 0], [1, 'Child', 'female', 1], [1, 'Adult', 'male', 0], [2, 'Adult', 'female', 1], [1, 'Child', 'male', 1], [3, 'Adult', 'male', 0], [3, 'Adult', 'male', 1], [3, 'Adult', 'male', 1], [3, 'Child', 'male', 0], [1, 'Adult', 'male', 1], [1, 'Adult', 'female', 1], [3, 'Adult', 'male', 0], [1, 'Adult', 'male', 0], [2, 'Adult', 'female', 1], [3, 'Child', 'male', 0], [2, 'Adult', 'female', 1], [3, 'Adult', 'male', 0], [1, 'Adult', 'female', 1], [3, 'Adult', 'male', 0], [3, 'Child', 'male', 0], [1, 'Adult', 'female', 1], [3, 'Child', 'male', 0], [3, 'Adult', 'male', 0], [2, 'Adult', 'female', 1], [1, 'Child', 'male', 0], [3, 'Adult', 'male', 0], [2, 'Adult', 'male', 0], [2, 'Child', 'female', 1], [3, 'Child', 'male', 0], [3, 'Child', 'male', 0], [3, 'Child', 'female', 1], [3, 'Adult', 'female', 0], [2, 'Child', 'female', 1], [1, 'Adult', 'male', 0], [1, 'Adult', 'female', 1], [3, 'Child', 'male', 0], [1, 'Adult', 'female', 1], [1, 'Adult', 'female', 1], [3, 'Child', 'female', 0], [3, 'Child', 'female', 0], [2, 'Adult', 'male', 1], [1, 'Adult', 'male', 0], [1, 'Adult', 'male', 0], [2, 'Adult', 'female', 1], [2, 'Child', 'male', 1], [3, 'Adult', 'male', 0], [2, 'Child', 'male', 1], [1, 'Child', 'male', 1], [2, 'Adult', 'male', 0], [3, 'Child', 'male', 0], [3, 'Adult', 'male', 1], [3, 'Adult', 'female', 1], [1, 'Adult', 'male', 0], [1, 'Adult', 'female', 1], [1, 'Child', 'male', 0], [1, 'Adult', 'female', 1], [3, 'Adult', 'female', 1], [3, 'Child', 'male', 0], [3, 'Adult', 'male', 0], [2, 'Adult', 'male', 0], [3, 'Child', 'male', 0], [3, 'Child', 'female', 0], [3, 'Adult', 'male', 0], [3, 'Adult', 'male', 0], [3, 'Adult', 'female', 0], [3, 'Child', 'male', 0], [3, 'Adult', 'male', 1], [2, 'Adult', 'male', 1], [1, 'Adult', 'female', 1], [1, 'Adult', 'male', 1], [3, 'Child', 'female', 1], [3, 'Child', 'male', 0], [3, 'Adult', 'male', 0], [2, 'Adult', 'female', 1], [1, 'Adult', 'female', 1], [3, 'Child', 'female', 0], [3, 'Adult', 'male', 1], [2, 'Adult', 'female', 1], [1, 'Adult', 'female', 1], [2, 'Adult', 'male', 0], [1, 'Adult', 'male', 0], [3, 'Child', 'male', 0], [1, 'Adult', 'female', 1], [2, 'Adult', 'male', 0], [1, 'Adult', 'male', 1], [3, 'Adult', 'male', 0], [3, 'Child', 'male', 0], [3, 'Adult', 'male', 0], [1, 'Adult', 'female', 1], [3, 'Adult', 'male', 0], [3, 'Child', 'female', 0], [2, 'Adult', 'male', 0], [3, 'Adult', 'male', 0], [2, 'Child', 'female', 1], [3, 'Adult', 'male', 0], [3, 'Child', 'male', 0], [1, 'Adult', 'male', 1], [2, 'Adult', 'female', 1], [3, 'Child', 'male', 0], [1, 'Child', 'male', 0], [3, 'Adult', 'male', 0], [1, 'Adult', 'male', 1], [3, 'Adult', 'male', 0], [3, 'Adult', 'male', 0], [1, 'Adult', 'male', 1], [2, 'Adult', 'female', 1], [1, 'Adult', 'female', 1], [3, 'Adult', 'female', 0], [3, 'Child', 'male', 0], [3, 'Child', 'female', 1], [3, 'Child', 'male', 0], [3, 'Adult', 'male', 0], [2, 'Adult', 'female', 1], [3, 'Adult', 'male', 0], [3, 'Adult', 'female', 0], [2, 'Child', 'female', 1], [2, 'Adult', 'male', 0], [3, 'Adult', 'male', 0], [1, 'Adult', 'male', 1], [3, 'Adult', 'male', 1], [3, 'Adult', 'male', 0], [3, 'Adult', 'male', 0], [1, 'Adult', 'male', 0], [2, 'Adult', 'male', 0], [1, 'Adult', 'female', 1], [3, 'Adult', 'male', 0], [3, 'Child', 'male', 0], [1, 'Adult', 'male', 1], [3, 'Adult', 'male', 0], [1, 'Adult', 'male', 1], [1, 'Child', 'male', 0], [3, 'Child', 'female', 0], [2, 'Adult', 'female', 1], [3, 'Adult', 'male', 0], [2, 'Adult', 'male', 0], [3, 'Adult', 'female', 0], [3, 'Child', 'male', 0], [3, 'Adult', 'male', 0], [1, 'Adult', 'female', 1], [3, 'Child', 'female', 0], [3, 'Child', 'male', 1], [3, 'Child', 'female', 1], [1, 'Adult', 'male', 1], [3, 'Adult', 'male', 0], [1, 'Adult', 'male', 1], [3, 'Child', 'male', 0], [3, 'Adult', 'female', 1], [3, 'Child', 'male', 0], [2, 'Adult', 'female', 1], [3, 'Adult', 'male', 0], [3, 'Child', 'female', 1], [3, 'Adult', 'female', 0], [2, 'Adult', 'male', 0], [3, 'Child', 'male', 0], [3, 'Adult', 'female', 0], [2, 'Adult', 'male', 0], [1, 'Adult', 'male', 0], [1, 'Adult', 'male', 1], [3, 'Adult', 'male', 0], [1, 'Adult', 'male', 0], [3, 'Adult', 'male', 0], [3, 'Adult', 'male', 1], [2, 'Adult', 'male', 0], [2, 'Adult', 'male', 0], [3, 'Child', 'male', 0], [3, 'Adult', 'male', 0], [1, 'Child', 'female', 1], [2, 'Adult', 'female', 1], [1, 'Adult', 'male', 0], [2, 'Adult', 'male', 0], [2, 'Adult', 'male', 1], [2, 'Child', 'male', 0], [3, 'Adult', 'male', 0], [3, 'Adult', 'male', 0], [3, 'Adult', 'female', 1], [3, 'Adult', 'female', 0], [1, 'Adult', 'male', 1], [3, 'Child', 'female', 0], [1, 'Adult', 'male', 1], [3, 'Adult', 'male', 0], [3, 'Child', 'male', 0], [2, 'Adult', 'male', 0], [2, 'Adult', 'male', 0], [3, 'Child', 'male', 0], [3, 'Adult', 'male', 0], [3, 'Adult', 'male', 0], [1, 'Child', 'female', 1], [1, 'Adult', 'male', 1], [3, 'Child', 'female', 1], [3, 'Child', 'male', 1], [3, 'Adult', 'male', 0], [1, 'Adult', 'male', 0], [2, 'Adult', 'male', 0], [3, 'Adult', 'male', 0], [3, 'Child', 'female', 1], [1, 'Adult', 'male', 0], [3, 'Adult', 'male', 0], [1, 'Adult', 'female', 1], [1, 'Adult', 'male', 1], [3, 'Adult', 'female', 0], [3, 'Adult', 'male', 0], [3, 'Adult', 'male', 0], [2, 'Adult', 'male', 0], [2, 'Adult', 'female', 1], [1, 'Adult', 'male', 1], [1, 'Adult', 'female', 1], [3, 'Child', 'male', 1], [1, 'Adult', 'female', 1], [1, 'Child', 'male', 0], [1, 'Adult', 'male', 1], [3, 'Adult', 'male', 0], [2, 'Adult', 'male', 0], [3, 'Adult', 'male', 0], [1, 'Adult', 'female', 1], [2, 'Adult', 'female', 1], [3, 'Child', 'male', 0], [3, 'Adult', 'male', 0], [2, 'Child', 'female', 1], [3, 'Child', 'male', 0], [2, 'Adult', 'male', 0], [2, 'Adult', 'male', 0], [1, 'Adult', 'male', 1], [3, 'Adult', 'male', 0], [2, 'Adult', 'female', 1], [3, 'Child', 'female', 1], [2, 'Adult', 'male', 0], [3, 'Adult', 'female', 0], [1, 'Adult', 'female', 1], [3, 'Child', 'male', 0], [2, 'Child', 'male', 0], [2, 'Adult', 'male', 0], [2, 'Adult', 'male', 0], [3, 'Adult', 'male', 0], [3, 'Adult', 'female', 0], [1, 'Adult', 'male', 1], [3, 'Child', 'male', 0], [3, 'Child', 'male', 0], [1, 'Child', 'male', 1], [1, 'Adult', 'male', 0], [1, 'Adult', 'female', 1], [3, 'Adult', 'male', 0], [3, 'Adult', 'male', 1], [1, 'Adult', 'male', 0], [3, 'Child', 'male', 0], [2, 'Adult', 'female', 1], [1, 'Adult', 'male', 0], [3, 'Adult', 'male', 0], [2, 'Child', 'female', 1], [3, 'Child', 'male', 1], [3, 'Adult', 'male', 0], [3, 'Adult', 'male', 0], [2, 'Adult', 'female', 1], [2, 'Child', 'male', 1], [3, 'Adult', 'male', 0], [2, 'Adult', 'male', 0], [3, 'Adult', 'male', 0], [1, 'Adult', 'female', 1], [3, 'Child', 'male', 0], [3, 'Adult', 'male', 0], [3, 'Adult', 'male', 1], [1, 'Adult', 'female', 1], [3, 'Child', 'male', 0], [1, 'Adult', 'female', 1], [1, 'Child', 'male', 0], [3, 'Adult', 'female', 0], [3, 'Child', 'male', 0], [3, 'Adult', 'male', 0], [3, 'Adult', 'male', 0], [3, 'Adult', 'male', 0], [2, 'Adult', 'female', 0], [3, 'Child', 'male', 0], [2, 'Adult', 'female', 1], [3, 'Adult', 'male', 0], [3, 'Child', 'male', 0], [3, 'Child', 'female', 1], [3, 'Child', 'male', 0], [1, 'Adult', 'female', 1], [3, 'Child', 'female', 1], [1, 'Child', 'female', 1], [1, 'Adult', 'male', 0], [3, 'Child', 'male', 0], [3, 'Adult', 'male', 0], [3, 'Adult', 'male', 0], [3, 'Adult', 'female', 1], [3, 'Child', 'male', 0], [3, 'Child', 'male', 1], [1, 'Adult', 'male', 0], [3, 'Child', 'male', 0], [2, 'Child', 'male', 0], [3, 'Child', 'female', 0], [1, 'Child', 'male', 0], [3, 'Adult', 'male', 0], [2, 'Adult', 'male', 0], [1, 'Adult', 'female', 1], [3, 'Adult', 'female', 1], [3, 'Adult', 'male', 0], [3, 'Adult', 'female', 0], [2, 'Adult', 'male', 0], [2, 'Adult', 'female', 1], [1, 'Child', 'male', 1], [3, 'Child', 'male', 1], [3, 'Adult', 'male', 1], [3, 'Adult', 'male', 0], [1, 'Adult', 'male', 0], [3, 'Adult', 'female', 0], [2, 'Adult', 'male', 0], [1, 'Adult', 'female', 1], [3, 'Adult', 'male', 0], [3, 'Adult', 'male', 0], [2, 'Adult', 'male', 0], [3, 'Child', 'female', 0], [3, 'Adult', 'male', 0], [1, 'Child', 'male', 0], [3, 'Adult', 'female', 0], [2, 'Adult', 'male', 0], [3, 'Adult', 'male', 0], [3, 'Child', 'male', 0], [1, 'Adult', 'female', 1], [3, 'Adult', 'male', 1], [1, 'Adult', 'male', 0], [3, 'Adult', 'female', 1], [3, 'Child', 'male', 0], [3, 'Child', 'male', 0], [3, 'Child', 'male', 0], [2, 'Child', 'male', 1], [3, 'Child', 'male', 1], [1, 'Adult', 'female', 1], [3, 'Child', 'female', 1], [2, 'Child', 'male', 1], [3, 'Child', 'male', 0], [3, 'Adult', 'male', 0], [3, 'Adult', 'male', 0], [1, 'Adult', 'female', 1], [3, 'Adult', 'male', 0], [3, 'Child', 'male', 0], [3, 'Adult', 'male', 1], [1, 'Child', 'male', 1], [3, 'Adult', 'male', 0], [2, 'Child', 'male', 0], [1, 'Adult', 'female', 1], [3, 'Adult', 'male', 0], [3, 'Child', 'male', 0], [3, 'Adult', 'male', 0], [3, 'Child', 'male', 0], [3, 'Adult', 'male', 0], [2, 'Adult', 'male', 0], [1, 'Child', 'female', 1], [3, 'Child', 'male', 0], [3, 'Adult', 'male', 0], [3, 'Child', 'female', 0], [1, 'Child', 'female', 1], [2, 'Adult', 'female', 0], [3, 'Adult', 'female', 1], [1, 'Adult', 'female', 1], [1, 'Adult', 'male', 1], [3, 'Adult', 'female', 1], [3, 'Child', 'male', 0], [3, 'Adult', 'male', 0], [2, 'Adult', 'male', 0], [1, 'Adult', 'female', 1], [3, 'Child', 'female', 0], [2, 'Adult', 'male', 0], [2, 'Adult', 'female', 1], [2, 'Adult', 'female', 1], [1, 'Adult', 'male', 0], [3, 'Child', 'male', 0], [3, 'Child', 'male', 1], [3, 'Adult', 'male', 0], [1, 'Adult', 'female', 1], [1, 'Adult', 'male', 0], [3, 'Adult', 'male', 0], [2, 'Adult', 'female', 1], [3, 'Child', 'female', 1], [3, 'Adult', 'male', 0], [3, 'Adult', 'male', 0], [3, 'Child', 'male', 0], [1, 'Adult', 'female', 1], [2, 'Adult', 'female', 1], [3, 'Adult', 'male', 0], [3, 'Adult', 'female', 0], [2, 'Adult', 'male', 0], [3, 'Adult', 'male', 0], [3, 'Adult', 'female', 0], [2, 'Adult', 'male', 0], [1, 'Adult', 'female', 1], [3, 'Child', 'female', 0], [1, 'Adult', 'male', 1], [3, 'Adult', 'male', 0]]\n"
     ]
    }
   ],
   "source": [
    "# Toy dataset.\n",
    "# Format: each row is an example.\n",
    "# The last column is the label.\n",
    "# The first two columns are features.\n",
    "# Feel free to play with it by adding more features & examples.\n",
    "# Interesting note: I've written this so the 2nd and 5th examples\n",
    "# have the same features, but different labels - so we can see how the\n",
    "# tree handles this case.\n",
    "\n",
    "data = pd.read_csv(\"titanic.csv\")\n",
    "\n",
    "training_data = []\n",
    "\n",
    "def checkAdult(age):\n",
    "    if age>=18:\n",
    "        return \"Adult\"\n",
    "    else:\n",
    "        return \"Child\"\n",
    "    \n",
    "data[\"Adult/Child\"]=data[\"Age\"].apply(checkAdult)\n",
    "data.head() \n",
    "\n",
    "trainingData=data[[\"Pclass\",\"Adult/Child\",\"Gender\",\"Survived\"]]\n",
    "trainingData.head()\n",
    "\n",
    "training_data = trainingData.values.tolist()\n",
    "# print(training_data)\n",
    "\n",
    "# training_data = [\n",
    "#     ['Green', 3, 'Apple'],\n",
    "#     ['Yellow', 3, 'Apple'],\n",
    "#     ['Red', 1, 'Grape'],\n",
    "#     ['Red', 1, 'Grape'],\n",
    "#     ['Yellow', 3, 'Lemon'],\n",
    "# ]"
   ]
  },
  {
   "cell_type": "code",
   "execution_count": 19,
   "metadata": {},
   "outputs": [],
   "source": [
    "# Column labels.\n",
    "# These are used only to print the tree.\n",
    "header = [\"Pclass\", \"Adult/Child\", \"Gender\", \"Survived\"]"
   ]
  },
  {
   "cell_type": "code",
   "execution_count": 20,
   "metadata": {},
   "outputs": [],
   "source": [
    "def unique_vals(rows, col):\n",
    "    \"\"\"Find the unique values for a column in a dataset.\"\"\"\n",
    "    return set([row[col] for row in rows])"
   ]
  },
  {
   "cell_type": "code",
   "execution_count": 22,
   "metadata": {},
   "outputs": [],
   "source": [
    "def class_counts(rows):\n",
    "    \"\"\"Counts the number of each type of example in a dataset.\"\"\"\n",
    "    counts = {}  # a dictionary of label -> count.\n",
    "    for row in rows:\n",
    "        # in our dataset format, the label is the last column\n",
    "        label = row[-1]\n",
    "        if label not in counts:\n",
    "            counts[label] = 0\n",
    "        counts[label] += 1\n",
    "    return counts"
   ]
  },
  {
   "cell_type": "code",
   "execution_count": 24,
   "metadata": {},
   "outputs": [],
   "source": [
    "def is_numeric(value):\n",
    "    \"\"\"Test if a value is numeric.\"\"\"\n",
    "    return isinstance(value, int) or isinstance(value, float)"
   ]
  },
  {
   "cell_type": "code",
   "execution_count": 26,
   "metadata": {},
   "outputs": [],
   "source": [
    "class Question:\n",
    "    \"\"\"A Question is used to partition a dataset.\n",
    "    This class just records a 'column number' (e.g., 0 for Color) and a\n",
    "    'column value' (e.g., Green). The 'match' method is used to compare\n",
    "    the feature value in an example to the feature value stored in the\n",
    "    question. See the demo below.\n",
    "    \"\"\"\n",
    "\n",
    "    def __init__(self, column, value):\n",
    "        self.column = column\n",
    "        self.value = value\n",
    "\n",
    "    def match(self, example):\n",
    "        # Compare the feature value in an example to the\n",
    "        # feature value in this question.\n",
    "        val = example[self.column]\n",
    "        if is_numeric(val):\n",
    "            return val >= self.value\n",
    "        else:\n",
    "            return val == self.value\n",
    "\n",
    "    def __repr__(self):\n",
    "        # This is just a helper method to print \n",
    "        # the question in a readable format.\n",
    "        condition = \"==\"\n",
    "        if is_numeric(self.value):\n",
    "            condition = \">=\"\n",
    "        return \"Is %s %s %s?\" % (header[self.column], condition, str(self.value))"
   ]
  },
  {
   "cell_type": "code",
   "execution_count": 30,
   "metadata": {},
   "outputs": [],
   "source": [
    "def partition(rows, question):\n",
    "    \"\"\"Partitions a dataset.\n",
    "    For each row in the dataset, check if it matches the question. If\n",
    "    so, add it to 'true rows', otherwise, add it to 'false rows'.\n",
    "    \"\"\"\n",
    "    true_rows, false_rows = [], []\n",
    "    for row in rows:\n",
    "        if question.match(row):\n",
    "            true_rows.append(row)\n",
    "        else:\n",
    "            false_rows.append(row)\n",
    "    return true_rows, false_rows"
   ]
  },
  {
   "cell_type": "code",
   "execution_count": 47,
   "metadata": {},
   "outputs": [],
   "source": [
    "def gini(rows):\n",
    "    \"\"\"Calculate the Gini Impurity for a list of rows.\n",
    "    There are a few different ways to do this, I thought this one was\n",
    "    the most concise. See:\n",
    "    https://en.wikipedia.org/wiki/Decision_tree_learning#Gini_impurity\n",
    "    \"\"\"\n",
    "    counts = class_counts(rows)\n",
    "    impurity = 1\n",
    "    for lbl in counts:\n",
    "        prob_of_lbl = counts[lbl] / float(len(rows))\n",
    "        impurity -= prob_of_lbl**2\n",
    "    return impurity"
   ]
  },
  {
   "cell_type": "code",
   "execution_count": 39,
   "metadata": {},
   "outputs": [],
   "source": [
    "def find_best_split(rows):\n",
    "    \"\"\"Find the best question to ask by iterating over every feature / value\n",
    "    and calculating the information gain.\"\"\"\n",
    "    best_gain = 0  # keep track of the best information gain\n",
    "    best_question = None  # keep train of the feature / value that produced it\n",
    "    current_uncertainty = gini(rows)\n",
    "    n_features = len(rows[0]) - 1  # number of columns\n",
    "\n",
    "    for col in range(n_features):  # for each feature\n",
    "        values = set([row[col] for row in rows])  # unique values in the column\n",
    "        for val in values:  # for each value\n",
    "            question = Question(col, val)\n",
    "            # try splitting the dataset\n",
    "            true_rows, false_rows = partition(rows, question)\n",
    "\n",
    "            # Skip this split if it doesn't divide the\n",
    "            # dataset.\n",
    "            if len(true_rows) == 0 or len(false_rows) == 0:\n",
    "                continue\n",
    "\n",
    "            # Calculate the information gain from this split\n",
    "            gain = info_gain(true_rows, false_rows, current_uncertainty)\n",
    "\n",
    "            # You actually can use '>' instead of '>=' here\n",
    "            # but I wanted the tree to look a certain way for our\n",
    "            # toy dataset.\n",
    "            if gain >= best_gain:\n",
    "                best_gain, best_question = gain, question\n",
    "\n",
    "    return best_gain, best_question"
   ]
  },
  {
   "cell_type": "code",
   "execution_count": 41,
   "metadata": {},
   "outputs": [],
   "source": [
    "class Leaf:\n",
    "    \"\"\"A Leaf node classifies data.\n",
    "    This holds a dictionary of class (e.g., \"Apple\") -> number of times\n",
    "    it appears in the rows from the training data that reach this leaf.\n",
    "    \"\"\"\n",
    "\n",
    "    def __init__(self, rows):\n",
    "        self.predictions = class_counts(rows)"
   ]
  },
  {
   "cell_type": "code",
   "execution_count": 42,
   "metadata": {},
   "outputs": [],
   "source": [
    "class Decision_Node:\n",
    "    \"\"\"A Decision Node asks a question.\n",
    "    This holds a reference to the question, and to the two child nodes.\n",
    "    \"\"\"\n",
    "\n",
    "    def __init__(self,\n",
    "                 question,\n",
    "                 true_branch,\n",
    "                 false_branch):\n",
    "        self.question = question\n",
    "        self.true_branch = true_branch\n",
    "        self.false_branch = false_branch"
   ]
  },
  {
   "cell_type": "code",
   "execution_count": 43,
   "metadata": {},
   "outputs": [],
   "source": [
    "def build_tree(rows):\n",
    "    \"\"\"Builds the tree.\n",
    "    Rules of recursion: 1) Believe that it works. 2) Start by checking\n",
    "    for the base case (no further information gain). 3) Prepare for\n",
    "    giant stack traces.\n",
    "    \"\"\"\n",
    "# code here\n",
    "    info, question = find_best_split(rows)\n",
    "    \n",
    "    if info == 0 :\n",
    "        return Leaf(rows)\n",
    "    \n",
    "    true_rows, false_rows = partition(rows,question)\n",
    "    \n",
    "    true_branch = build_tree(true_rows)\n",
    "    false_branch = build_tree(false_rows)\n",
    "    \n",
    "    return Decision_Node(question,true_branch,false_branch)\n",
    "    # Try partitioing the dataset on each of the unique attribute,\n",
    "    # calculate the information gain,\n",
    "    # and return the question that produces the highest gain.\n",
    "\n",
    "    # Base case: no further info gain\n",
    "    # Since we can ask no further questions,\n",
    "    # we'll return a leaf.\n",
    "   \n",
    "\n",
    "    # If we reach here, we have found a useful feature / value\n",
    "    # to partition on.\n",
    "\n",
    "    # Recursively build the true branch.\n",
    "\n",
    "    # Recursively build the false branch.\n",
    "\n",
    "    # Return a Question node.\n",
    "    # This records the best feature / value to ask at this point,\n",
    "    # as well as the branches to follow\n",
    "    # dependingo on the answer.\n"
   ]
  },
  {
   "cell_type": "code",
   "execution_count": 16,
   "metadata": {},
   "outputs": [],
   "source": [
    "def print_tree(node, spacing=\"\"):\n",
    "    \"\"\"World's most elegant tree printing function.\"\"\"\n",
    "\n",
    "    # Base case: we've reached a leaf\n",
    "    if isinstance(node, Leaf):\n",
    "        print (spacing + \"Predict\", node.predictions)\n",
    "        return\n",
    "\n",
    "    # Print the question at this node\n",
    "    print (spacing + str(node.question))\n",
    "\n",
    "    # Call this function recursively on the true branch\n",
    "    print (spacing + '--> True:')\n",
    "    print_tree(node.true_branch, spacing + \"  \")\n",
    "\n",
    "    # Call this function recursively on the false branch\n",
    "    print (spacing + '--> False:')\n",
    "    print_tree(node.false_branch, spacing + \"  \")"
   ]
  },
  {
   "cell_type": "code",
   "execution_count": 48,
   "metadata": {},
   "outputs": [],
   "source": [
    "my_tree = build_tree(training_data)"
   ]
  },
  {
   "cell_type": "code",
   "execution_count": 56,
   "metadata": {},
   "outputs": [
    {
     "name": "stdout",
     "output_type": "stream",
     "text": [
      "Is Gender == male?\n",
      "--> True:\n",
      "  Is Pclass >= 2?\n",
      "  --> True:\n",
      "    Is Adult/Child == Adult?\n",
      "    --> True:\n",
      "      Is Pclass >= 3?\n",
      "      --> True:\n",
      "        Predict {0: 182, 1: 28}\n",
      "      --> False:\n",
      "        Predict {0: 82, 1: 6}\n",
      "    --> False:\n",
      "      Is Pclass >= 3?\n",
      "      --> True:\n",
      "        Predict {0: 118, 1: 19}\n",
      "      --> False:\n",
      "        Predict {1: 11, 0: 9}\n",
      "  --> False:\n",
      "    Is Adult/Child == Adult?\n",
      "    --> True:\n",
      "      Predict {0: 61, 1: 36}\n",
      "    --> False:\n",
      "      Predict {1: 9, 0: 16}\n",
      "--> False:\n",
      "  Is Pclass >= 3?\n",
      "  --> True:\n",
      "    Is Adult/Child == Adult?\n",
      "    --> True:\n",
      "      Predict {1: 28, 0: 39}\n",
      "    --> False:\n",
      "      Predict {1: 44, 0: 33}\n",
      "  --> False:\n",
      "    Is Pclass >= 2?\n",
      "    --> True:\n",
      "      Is Adult/Child == Adult?\n",
      "      --> True:\n",
      "        Predict {1: 56, 0: 6}\n",
      "      --> False:\n",
      "        Predict {1: 14}\n",
      "    --> False:\n",
      "      Is Adult/Child == Adult?\n",
      "      --> True:\n",
      "        Predict {1: 75, 0: 2}\n",
      "      --> False:\n",
      "        Predict {1: 16, 0: 1}\n"
     ]
    }
   ],
   "source": [
    "print_tree(my_tree)"
   ]
  },
  {
   "cell_type": "code",
   "execution_count": 46,
   "metadata": {},
   "outputs": [],
   "source": [
    "def classify(row, node):\n",
    "    \"\"\"See the 'rules of recursion' above.\"\"\"\n",
    "\n",
    "    # Base case: we've reached a leaf\n",
    "    if isinstance(node, Leaf):\n",
    "        return node.predictions\n",
    "\n",
    "    # Decide whether to follow the true-branch or the false-branch.\n",
    "    # Compare the feature / value stored in the node,\n",
    "    # to the example we're considering.\n",
    "    if node.question.match(row):\n",
    "        return classify(row, node.true_branch)\n",
    "    else:\n",
    "        return classify(row, node.false_branch)"
   ]
  },
  {
   "cell_type": "code",
   "execution_count": 50,
   "metadata": {},
   "outputs": [],
   "source": [
    "def print_leaf(counts):\n",
    "    \"\"\"A nicer way to print the predictions at a leaf.\"\"\"\n",
    "    total = sum(counts.values()) * 1.0\n",
    "    probs = {}\n",
    "    for lbl in counts.keys():\n",
    "        probs[lbl] = str(int(counts[lbl] / total * 100)) + \"%\"\n",
    "    return probs"
   ]
  },
  {
   "cell_type": "code",
   "execution_count": 51,
   "metadata": {},
   "outputs": [],
   "source": [
    "from sklearn.model_selection import train_test_split\n",
    "train, test = train_test_split(trainingData, test_size = 0.2)"
   ]
  },
  {
   "cell_type": "code",
   "execution_count": 57,
   "metadata": {},
   "outputs": [
    {
     "name": "stdout",
     "output_type": "stream",
     "text": [
      "Actual: s. Predicted: {1: '94%', 0: '5%'}\n",
      "Actual: d. Predicted: {1: '94%', 0: '5%'}\n",
      "Actual: r. Predicted: {1: '94%', 0: '5%'}\n",
      "Actual: d. Predicted: {1: '94%', 0: '5%'}\n"
     ]
    }
   ],
   "source": [
    "for row in test:\n",
    "    print (\"Actual: %s. Predicted: %s\" %\n",
    "           (row[-1], print_leaf(classify(row, my_tree))))"
   ]
  }
 ],
 "metadata": {
  "kernelspec": {
   "display_name": "Python 3 (ipykernel)",
   "language": "python",
   "name": "python3"
  },
  "language_info": {
   "codemirror_mode": {
    "name": "ipython",
    "version": 3
   },
   "file_extension": ".py",
   "mimetype": "text/x-python",
   "name": "python",
   "nbconvert_exporter": "python",
   "pygments_lexer": "ipython3",
   "version": "3.9.7"
  }
 },
 "nbformat": 4,
 "nbformat_minor": 2
}
